{
 "cells": [
  {
   "cell_type": "code",
   "execution_count": 86,
   "id": "94df23a7-a3eb-4cef-a687-ad015f9fdc45",
   "metadata": {},
   "outputs": [],
   "source": [
    "import pandas as pd"
   ]
  },
  {
   "cell_type": "code",
   "execution_count": 87,
   "id": "cb402b6a-69b8-4ef2-b035-2803fc9896e0",
   "metadata": {},
   "outputs": [],
   "source": [
    "X_train = pd.read_csv(\"C:/Users/Julien GILLES/Documents/ESILV A4 Machine learning Projet/X_train_NHkHMNU.csv\")\n",
    "X_test = pd.read_csv(\"C:/Users/Julien GILLES/Documents/ESILV A4 Machine learning Projet/X_test_final.csv\")\n",
    "Y_train = pd.read_csv(\"C:/Users/Julien GILLES/Documents/ESILV A4 Machine learning Projet/y_train_ZAN5mwg.csv\")"
   ]
  },
  {
   "cell_type": "code",
   "execution_count": 88,
   "id": "1b5604f0-f3f2-4296-b1a4-2d69129ce645",
   "metadata": {},
   "outputs": [
    {
     "name": "stdout",
     "output_type": "stream",
     "text": [
      "0       FR\n",
      "1       FR\n",
      "2       FR\n",
      "3       DE\n",
      "4       FR\n",
      "        ..\n",
      "1489    DE\n",
      "1490    FR\n",
      "1491    DE\n",
      "1492    FR\n",
      "1493    DE\n",
      "Name: COUNTRY, Length: 1494, dtype: object\n"
     ]
    }
   ],
   "source": [
    "print(X_train['COUNTRY'])"
   ]
  },
  {
   "cell_type": "code",
   "execution_count": 89,
   "id": "af5b51b4-4f55-4f71-b607-0804a5183d36",
   "metadata": {},
   "outputs": [],
   "source": [
    "X_train = pd.get_dummies(X_train, columns=['COUNTRY']) #one-hot encoding\n",
    "#création d'une colonne COUNTRY_DE et COUNTRY_FR en encodage binaire"
   ]
  },
  {
   "cell_type": "code",
   "execution_count": 90,
   "id": "72e1f64f-4fd1-420e-81b2-c5340c7bced2",
   "metadata": {},
   "outputs": [],
   "source": [
    "X_test = pd.get_dummies(X_test, columns=['COUNTRY']) #one-hot encoding"
   ]
  },
  {
   "cell_type": "code",
   "execution_count": 91,
   "id": "db422e39-2427-4e58-8fc7-9bb7d3e5578e",
   "metadata": {},
   "outputs": [],
   "source": [
    "X_train = X_train.apply(lambda col: col.fillna(col.mean()) if col.dtype in ['float64', 'int64'] else col)\n",
    "#on remplace les valeurs manquantes par la moyenne de la colonne"
   ]
  },
  {
   "cell_type": "code",
   "execution_count": 92,
   "id": "7355a90d-e1c4-418e-ad6b-248939b304d2",
   "metadata": {},
   "outputs": [],
   "source": [
    "X_test = X_test.apply(lambda col: col.fillna(col.mean()) if col.dtype in ['float64', 'int64'] else col)"
   ]
  },
  {
   "cell_type": "code",
   "execution_count": 93,
   "id": "cd594a95-52f8-404b-95a5-e46b72fa79fb",
   "metadata": {},
   "outputs": [
    {
     "data": {
      "text/plain": [
       "ID                  0\n",
       "DAY_ID              0\n",
       "DE_CONSUMPTION      0\n",
       "FR_CONSUMPTION      0\n",
       "DE_FR_EXCHANGE      0\n",
       "FR_DE_EXCHANGE      0\n",
       "DE_NET_EXPORT       0\n",
       "FR_NET_EXPORT       0\n",
       "DE_NET_IMPORT       0\n",
       "FR_NET_IMPORT       0\n",
       "DE_GAS              0\n",
       "FR_GAS              0\n",
       "DE_COAL             0\n",
       "FR_COAL             0\n",
       "DE_HYDRO            0\n",
       "FR_HYDRO            0\n",
       "DE_NUCLEAR          0\n",
       "FR_NUCLEAR          0\n",
       "DE_SOLAR            0\n",
       "FR_SOLAR            0\n",
       "DE_WINDPOW          0\n",
       "FR_WINDPOW          0\n",
       "DE_LIGNITE          0\n",
       "DE_RESIDUAL_LOAD    0\n",
       "FR_RESIDUAL_LOAD    0\n",
       "DE_RAIN             0\n",
       "FR_RAIN             0\n",
       "DE_WIND             0\n",
       "FR_WIND             0\n",
       "DE_TEMP             0\n",
       "FR_TEMP             0\n",
       "GAS_RET             0\n",
       "COAL_RET            0\n",
       "CARBON_RET          0\n",
       "COUNTRY_DE          0\n",
       "COUNTRY_FR          0\n",
       "dtype: int64"
      ]
     },
     "execution_count": 93,
     "metadata": {},
     "output_type": "execute_result"
    }
   ],
   "source": [
    "X_train.isnull().sum()"
   ]
  },
  {
   "cell_type": "code",
   "execution_count": 94,
   "id": "07d4449a-8a8b-454f-a568-c77e950efea7",
   "metadata": {},
   "outputs": [],
   "source": [
    "#plus de valeurs manquantes"
   ]
  },
  {
   "cell_type": "code",
   "execution_count": 95,
   "id": "ce45f7a6-8b19-4767-b2be-f9bd71d48dc7",
   "metadata": {},
   "outputs": [
    {
     "name": "stdout",
     "output_type": "stream",
     "text": [
      "0       False\n",
      "1       False\n",
      "2       False\n",
      "3        True\n",
      "4       False\n",
      "        ...  \n",
      "1489     True\n",
      "1490    False\n",
      "1491     True\n",
      "1492    False\n",
      "1493     True\n",
      "Name: COUNTRY_DE, Length: 1494, dtype: bool\n"
     ]
    }
   ],
   "source": [
    "print(X_train['COUNTRY_DE'])"
   ]
  },
  {
   "cell_type": "code",
   "execution_count": 96,
   "id": "063f6141-c6ce-475c-afab-3b7307cae691",
   "metadata": {},
   "outputs": [
    {
     "data": {
      "text/html": [
       "<div>\n",
       "<style scoped>\n",
       "    .dataframe tbody tr th:only-of-type {\n",
       "        vertical-align: middle;\n",
       "    }\n",
       "\n",
       "    .dataframe tbody tr th {\n",
       "        vertical-align: top;\n",
       "    }\n",
       "\n",
       "    .dataframe thead th {\n",
       "        text-align: right;\n",
       "    }\n",
       "</style>\n",
       "<table border=\"1\" class=\"dataframe\">\n",
       "  <thead>\n",
       "    <tr style=\"text-align: right;\">\n",
       "      <th></th>\n",
       "      <th>ID</th>\n",
       "      <th>DAY_ID</th>\n",
       "      <th>DE_CONSUMPTION</th>\n",
       "      <th>FR_CONSUMPTION</th>\n",
       "      <th>DE_FR_EXCHANGE</th>\n",
       "      <th>FR_DE_EXCHANGE</th>\n",
       "      <th>DE_NET_EXPORT</th>\n",
       "      <th>FR_NET_EXPORT</th>\n",
       "      <th>DE_NET_IMPORT</th>\n",
       "      <th>FR_NET_IMPORT</th>\n",
       "      <th>...</th>\n",
       "      <th>FR_RAIN</th>\n",
       "      <th>DE_WIND</th>\n",
       "      <th>FR_WIND</th>\n",
       "      <th>DE_TEMP</th>\n",
       "      <th>FR_TEMP</th>\n",
       "      <th>GAS_RET</th>\n",
       "      <th>COAL_RET</th>\n",
       "      <th>CARBON_RET</th>\n",
       "      <th>COUNTRY_DE</th>\n",
       "      <th>COUNTRY_FR</th>\n",
       "    </tr>\n",
       "  </thead>\n",
       "  <tbody>\n",
       "    <tr>\n",
       "      <th>0</th>\n",
       "      <td>1054</td>\n",
       "      <td>206</td>\n",
       "      <td>0.210099</td>\n",
       "      <td>-0.427458</td>\n",
       "      <td>-0.606523</td>\n",
       "      <td>0.606523</td>\n",
       "      <td>-0.256332</td>\n",
       "      <td>0.692860</td>\n",
       "      <td>0.256332</td>\n",
       "      <td>-0.692860</td>\n",
       "      <td>...</td>\n",
       "      <td>-0.556356</td>\n",
       "      <td>-0.790823</td>\n",
       "      <td>-0.283160</td>\n",
       "      <td>-1.069070</td>\n",
       "      <td>-0.063404</td>\n",
       "      <td>0.339041</td>\n",
       "      <td>0.124552</td>\n",
       "      <td>-0.002445</td>\n",
       "      <td>False</td>\n",
       "      <td>True</td>\n",
       "    </tr>\n",
       "    <tr>\n",
       "      <th>1</th>\n",
       "      <td>2049</td>\n",
       "      <td>501</td>\n",
       "      <td>-0.022399</td>\n",
       "      <td>-1.003452</td>\n",
       "      <td>-0.022063</td>\n",
       "      <td>0.022063</td>\n",
       "      <td>-0.573520</td>\n",
       "      <td>-1.130838</td>\n",
       "      <td>0.573520</td>\n",
       "      <td>1.130838</td>\n",
       "      <td>...</td>\n",
       "      <td>-0.770457</td>\n",
       "      <td>1.522331</td>\n",
       "      <td>0.828412</td>\n",
       "      <td>0.437419</td>\n",
       "      <td>1.831241</td>\n",
       "      <td>-0.659091</td>\n",
       "      <td>0.047114</td>\n",
       "      <td>-0.490365</td>\n",
       "      <td>False</td>\n",
       "      <td>True</td>\n",
       "    </tr>\n",
       "    <tr>\n",
       "      <th>2</th>\n",
       "      <td>1924</td>\n",
       "      <td>687</td>\n",
       "      <td>1.395035</td>\n",
       "      <td>1.978665</td>\n",
       "      <td>1.021305</td>\n",
       "      <td>-1.021305</td>\n",
       "      <td>-0.622021</td>\n",
       "      <td>-1.682587</td>\n",
       "      <td>0.622021</td>\n",
       "      <td>1.682587</td>\n",
       "      <td>...</td>\n",
       "      <td>-0.313338</td>\n",
       "      <td>0.431134</td>\n",
       "      <td>0.487608</td>\n",
       "      <td>0.684884</td>\n",
       "      <td>0.114836</td>\n",
       "      <td>0.535974</td>\n",
       "      <td>0.743338</td>\n",
       "      <td>0.204952</td>\n",
       "      <td>False</td>\n",
       "      <td>True</td>\n",
       "    </tr>\n",
       "    <tr>\n",
       "      <th>3</th>\n",
       "      <td>297</td>\n",
       "      <td>720</td>\n",
       "      <td>-0.983324</td>\n",
       "      <td>-0.849198</td>\n",
       "      <td>-0.839586</td>\n",
       "      <td>0.839586</td>\n",
       "      <td>-0.270870</td>\n",
       "      <td>0.563230</td>\n",
       "      <td>0.270870</td>\n",
       "      <td>-0.563230</td>\n",
       "      <td>...</td>\n",
       "      <td>-0.507570</td>\n",
       "      <td>-0.499409</td>\n",
       "      <td>-0.236249</td>\n",
       "      <td>0.350938</td>\n",
       "      <td>-0.417514</td>\n",
       "      <td>0.911652</td>\n",
       "      <td>-0.296168</td>\n",
       "      <td>1.073948</td>\n",
       "      <td>True</td>\n",
       "      <td>False</td>\n",
       "    </tr>\n",
       "    <tr>\n",
       "      <th>4</th>\n",
       "      <td>1101</td>\n",
       "      <td>818</td>\n",
       "      <td>0.143807</td>\n",
       "      <td>-0.617038</td>\n",
       "      <td>-0.924990</td>\n",
       "      <td>0.924990</td>\n",
       "      <td>-0.256332</td>\n",
       "      <td>0.990324</td>\n",
       "      <td>0.256332</td>\n",
       "      <td>-0.990324</td>\n",
       "      <td>...</td>\n",
       "      <td>-0.424550</td>\n",
       "      <td>-1.088158</td>\n",
       "      <td>-1.011560</td>\n",
       "      <td>0.614338</td>\n",
       "      <td>0.729495</td>\n",
       "      <td>0.245109</td>\n",
       "      <td>1.526606</td>\n",
       "      <td>2.614378</td>\n",
       "      <td>False</td>\n",
       "      <td>True</td>\n",
       "    </tr>\n",
       "  </tbody>\n",
       "</table>\n",
       "<p>5 rows × 36 columns</p>\n",
       "</div>"
      ],
      "text/plain": [
       "     ID  DAY_ID  DE_CONSUMPTION  FR_CONSUMPTION  DE_FR_EXCHANGE  \\\n",
       "0  1054     206        0.210099       -0.427458       -0.606523   \n",
       "1  2049     501       -0.022399       -1.003452       -0.022063   \n",
       "2  1924     687        1.395035        1.978665        1.021305   \n",
       "3   297     720       -0.983324       -0.849198       -0.839586   \n",
       "4  1101     818        0.143807       -0.617038       -0.924990   \n",
       "\n",
       "   FR_DE_EXCHANGE  DE_NET_EXPORT  FR_NET_EXPORT  DE_NET_IMPORT  FR_NET_IMPORT  \\\n",
       "0        0.606523      -0.256332       0.692860       0.256332      -0.692860   \n",
       "1        0.022063      -0.573520      -1.130838       0.573520       1.130838   \n",
       "2       -1.021305      -0.622021      -1.682587       0.622021       1.682587   \n",
       "3        0.839586      -0.270870       0.563230       0.270870      -0.563230   \n",
       "4        0.924990      -0.256332       0.990324       0.256332      -0.990324   \n",
       "\n",
       "   ...   FR_RAIN   DE_WIND   FR_WIND   DE_TEMP   FR_TEMP   GAS_RET  COAL_RET  \\\n",
       "0  ... -0.556356 -0.790823 -0.283160 -1.069070 -0.063404  0.339041  0.124552   \n",
       "1  ... -0.770457  1.522331  0.828412  0.437419  1.831241 -0.659091  0.047114   \n",
       "2  ... -0.313338  0.431134  0.487608  0.684884  0.114836  0.535974  0.743338   \n",
       "3  ... -0.507570 -0.499409 -0.236249  0.350938 -0.417514  0.911652 -0.296168   \n",
       "4  ... -0.424550 -1.088158 -1.011560  0.614338  0.729495  0.245109  1.526606   \n",
       "\n",
       "   CARBON_RET  COUNTRY_DE  COUNTRY_FR  \n",
       "0   -0.002445       False        True  \n",
       "1   -0.490365       False        True  \n",
       "2    0.204952       False        True  \n",
       "3    1.073948        True       False  \n",
       "4    2.614378       False        True  \n",
       "\n",
       "[5 rows x 36 columns]"
      ]
     },
     "execution_count": 96,
     "metadata": {},
     "output_type": "execute_result"
    }
   ],
   "source": [
    "X_train.head()"
   ]
  },
  {
   "cell_type": "code",
   "execution_count": 97,
   "id": "f0c820f9-ae0c-4f62-a504-d839374fd212",
   "metadata": {},
   "outputs": [],
   "source": [
    "#vérification de l'équilibrage de notre target pas utile car target pas une classe binaire (pas une tache de classification)"
   ]
  },
  {
   "cell_type": "code",
   "execution_count": 98,
   "id": "2559e617-4d76-4cd2-8f93-d6be5d51bef4",
   "metadata": {},
   "outputs": [],
   "source": [
    "#standardisation des nos datasets\n",
    "from sklearn.preprocessing import StandardScaler\n",
    "\n",
    "# Sauvegarder la colonne ID avant de standardiser\n",
    "X_test_ids = X_test['ID']\n",
    "\n",
    "# Suppression des colonnes inutiles\n",
    "X_train = X_train.drop(columns=['ID', 'DAY_ID','COUNTRY_DE','COUNTRY_FR'])\n",
    "X_test = X_test.drop(columns=['ID', 'DAY_ID','COUNTRY_DE','COUNTRY_FR'])\n",
    "\n",
    "scaler = StandardScaler()\n",
    "X_train_scaled = scaler.fit_transform(X_train)\n",
    "X_test_scaled = scaler.transform(X_test)"
   ]
  },
  {
   "cell_type": "code",
   "execution_count": 99,
   "id": "2ce954b9-2f0c-4953-920b-8f9b623a5fc3",
   "metadata": {},
   "outputs": [],
   "source": [
    "#analyse de corrélation :"
   ]
  },
  {
   "cell_type": "code",
   "execution_count": 101,
   "id": "16387c33-3aa5-4820-b3f8-4115b4bfb6a0",
   "metadata": {},
   "outputs": [
    {
     "name": "stdout",
     "output_type": "stream",
     "text": [
      "Corrélation avec la variable cible TARGET :\n",
      "DE_CONSUMPTION     -0.052565\n",
      "FR_CONSUMPTION     -0.005685\n",
      "DE_FR_EXCHANGE     -0.020081\n",
      "FR_DE_EXCHANGE      0.020081\n",
      "DE_NET_EXPORT      -0.151851\n",
      "FR_NET_EXPORT      -0.024843\n",
      "DE_NET_IMPORT       0.151851\n",
      "FR_NET_IMPORT       0.024843\n",
      "DE_GAS              0.096657\n",
      "FR_GAS              0.024652\n",
      "DE_COAL             0.045181\n",
      "FR_COAL             0.015732\n",
      "DE_HYDRO            0.086127\n",
      "FR_HYDRO            0.052820\n",
      "DE_NUCLEAR          0.012236\n",
      "FR_NUCLEAR          0.001588\n",
      "DE_SOLAR            0.021934\n",
      "FR_SOLAR            0.021081\n",
      "DE_WINDPOW         -0.150287\n",
      "FR_WINDPOW         -0.132523\n",
      "DE_LIGNITE          0.034433\n",
      "DE_RESIDUAL_LOAD    0.132555\n",
      "FR_RESIDUAL_LOAD    0.030254\n",
      "DE_RAIN            -0.039134\n",
      "FR_RAIN            -0.039834\n",
      "DE_WIND            -0.081883\n",
      "FR_WIND            -0.048876\n",
      "DE_TEMP            -0.043010\n",
      "FR_TEMP            -0.045275\n",
      "GAS_RET             0.041969\n",
      "COAL_RET           -0.010285\n",
      "CARBON_RET          0.038252\n",
      "dtype: float64\n"
     ]
    },
    {
     "data": {
      "image/png": "[encoded data removed]",
      "text/plain": [
       "<Figure size 1000x600 with 1 Axes>"
      ]
     },
     "metadata": {},
     "output_type": "display_data"
    }
   ],
   "source": [
    "import seaborn as sns\n",
    "import matplotlib.pyplot as plt\n",
    "\n",
    "target_series = Y_train['TARGET'] if 'TARGET' in Y_train.columns else Y_train.squeeze()\n",
    "\n",
    "# Corrélation entre chaque variable de X_train et la variable cible Y_train['TARGET']\n",
    "corr_target = X_train.corrwith(target_series)\n",
    "print(\"Corrélation avec la variable cible TARGET :\")\n",
    "print(corr_target)\n",
    "\n",
    "# Visualisation des corrélations entre chaque variable de X_train et TARGET\n",
    "plt.figure(figsize=(10, 6))\n",
    "sns.barplot(x=corr_target.values, y=corr_target.index, palette='coolwarm')\n",
    "plt.xlabel('Corrélation avec TARGET')\n",
    "plt.ylabel('Variables')\n",
    "plt.title('Corrélations des variables de X_train avec TARGET')\n",
    "plt.show()\n"
   ]
  },
  {
   "cell_type": "code",
   "execution_count": 79,
   "id": "2d88a8a8-fbc5-4307-80f4-9538fcf70a10",
   "metadata": {},
   "outputs": [],
   "source": [
    "#phase de réduction de dimensionnalité?"
   ]
  },
  {
   "cell_type": "code",
   "execution_count": 102,
   "id": "2545cdd2-5fcb-427b-8115-c757bc3e274b",
   "metadata": {},
   "outputs": [
    {
     "name": "stdout",
     "output_type": "stream",
     "text": [
      "Variables ayant une corrélation absolue > 0,05 avec la cible :\n",
      "   DE_CONSUMPTION  DE_NET_EXPORT  DE_NET_IMPORT    DE_GAS  DE_HYDRO  FR_HYDRO  \\\n",
      "0        0.210099      -0.256332       0.256332  0.441238  2.209047  0.207838   \n",
      "1       -0.022399      -0.573520       0.573520  0.174773  0.187964 -0.807112   \n",
      "2        1.395035      -0.622021       0.622021  2.351913 -0.108578  0.779142   \n",
      "\n",
      "   DE_WINDPOW  FR_WINDPOW  DE_RESIDUAL_LOAD   DE_WIND  \n",
      "0   -0.573370   -0.269460          0.626666 -0.790823  \n",
      "1   -0.035514   -0.107350         -0.395469  1.522331  \n",
      "2   -0.298755   -0.141239          1.336625  0.431134  \n"
     ]
    }
   ],
   "source": [
    "# Calcul de la corrélation entre chaque variable de X_train et la cible\n",
    "corr_target = X_train.corrwith(target_series)\n",
    "\n",
    "# Filtrer pour obtenir les variables ayant une corrélation absolue > 0,04\n",
    "selected_features = corr_target[abs(corr_target) > 0.05].index\n",
    "\n",
    "X_train_selected = X_train[selected_features]\n",
    "\n",
    "print(\"Variables ayant une corrélation absolue > 0,05 avec la cible :\")\n",
    "print(X_train_selected.head(3))"
   ]
  },
  {
   "cell_type": "code",
   "execution_count": 104,
   "id": "6da50b7a-50e9-4cf5-8ae7-2c6ef635f95e",
   "metadata": {},
   "outputs": [
    {
     "name": "stdout",
     "output_type": "stream",
     "text": [
      "Corrélation avec la variable cible TARGET (seuil > 0,05) :\n",
      "DE_CONSUMPTION     -0.052565\n",
      "DE_NET_EXPORT      -0.151851\n",
      "DE_NET_IMPORT       0.151851\n",
      "DE_GAS              0.096657\n",
      "DE_HYDRO            0.086127\n",
      "FR_HYDRO            0.052820\n",
      "DE_WINDPOW         -0.150287\n",
      "FR_WINDPOW         -0.132523\n",
      "DE_RESIDUAL_LOAD    0.132555\n",
      "DE_WIND            -0.081883\n",
      "dtype: float64\n"
     ]
    },
    {
     "data": {
      "image/png": "[encoded data removed]",
      "text/plain": [
       "<Figure size 1000x600 with 1 Axes>"
      ]
     },
     "metadata": {},
     "output_type": "display_data"
    }
   ],
   "source": [
    "import seaborn as sns\n",
    "import matplotlib.pyplot as plt\n",
    "\n",
    "# Calcul de la corrélation entre chaque variable de X_train et la cible target_series\n",
    "corr_target = X_train.corrwith(target_series)\n",
    "\n",
    "# Filtrer pour ne garder que les corrélations > 0,05 (en valeur absolue)\n",
    "filtered_corr_target = corr_target[abs(corr_target) > 0.05]\n",
    "\n",
    "print(\"Corrélation avec la variable cible TARGET (seuil > 0,05) :\")\n",
    "print(filtered_corr_target)\n",
    "\n",
    "# Visualisation des corrélations avec un seuil > 0,05\n",
    "plt.figure(figsize=(10, 6))\n",
    "sns.barplot(x=filtered_corr_target.values, y=filtered_corr_target.index, palette='coolwarm')\n",
    "plt.xlabel('Corrélation avec TARGET')\n",
    "plt.ylabel('Variables')\n",
    "plt.title('Corrélations des variables de X_train avec TARGET (> 0,05)')\n",
    "plt.show()"
   ]
  },
  {
   "cell_type": "code",
   "execution_count": 105,
   "id": "16f27e20-bee3-4c19-ba63-62598473abe9",
   "metadata": {},
   "outputs": [],
   "source": [
    "#on a maintenant la liste des 10 variables les plus corrélées"
   ]
  },
  {
   "cell_type": "code",
   "execution_count": 108,
   "id": "3c9692e9-f831-4756-b791-67babec4b02c",
   "metadata": {},
   "outputs": [
    {
     "name": "stdout",
     "output_type": "stream",
     "text": [
      "Dataset avec les colonnes ayant une corrélation absolue > 0,05 avec TARGET :\n",
      "   DE_CONSUMPTION  DE_NET_EXPORT  DE_NET_IMPORT    DE_GAS  DE_HYDRO  FR_HYDRO  \\\n",
      "0        0.210099      -0.256332       0.256332  0.441238  2.209047  0.207838   \n",
      "1       -0.022399      -0.573520       0.573520  0.174773  0.187964 -0.807112   \n",
      "2        1.395035      -0.622021       0.622021  2.351913 -0.108578  0.779142   \n",
      "3       -0.983324      -0.270870       0.270870  0.487818 -0.368417  1.320483   \n",
      "4        0.143807      -0.256332       0.256332  0.238693 -0.230179 -0.795983   \n",
      "\n",
      "   DE_WINDPOW  FR_WINDPOW  DE_RESIDUAL_LOAD   DE_WIND  \n",
      "0   -0.573370   -0.269460          0.626666 -0.790823  \n",
      "1   -0.035514   -0.107350         -0.395469  1.522331  \n",
      "2   -0.298755   -0.141239          1.336625  0.431134  \n",
      "3   -0.010090    0.366885         -1.191889 -0.499409  \n",
      "4   -0.774941   -0.564498          0.571613 -1.088158  \n"
     ]
    }
   ],
   "source": [
    "filtered_corr_target = corr_target[abs(corr_target) > 0.05].index\n",
    "\n",
    "# Créer un nouveau dataset avec uniquement les variables sélectionnées\n",
    "X_train_filtered = X_train[filtered_corr_target]\n",
    "\n",
    "# Affichage pour vérifier le dataset\n",
    "print(\"Dataset avec les colonnes ayant une corrélation absolue > 0,05 avec TARGET :\")\n",
    "print(X_train_filtered.head())\n"
   ]
  },
  {
   "cell_type": "code",
   "execution_count": null,
   "id": "32d7aeb6-8735-4c74-bf81-aca428c4f4cd",
   "metadata": {},
   "outputs": [],
   "source": [
    "#on a créé un new dataset avec les 1à variables les plus corrélées à notre target (on va l'utiliser pour entraîner notre modèle)"
   ]
  },
  {
   "cell_type": "code",
   "execution_count": 109,
   "id": "c49cbfc2-661e-4eef-8339-665d9b480db8",
   "metadata": {},
   "outputs": [],
   "source": [
    "#ATTENTION : on a appliqué les mêmes modifications au fichier X_test pour pouvoir comparer correctement :\n",
    "#-encodage de country\n",
    "#-remplacement des valeurs manquantes par la moyenne\n",
    "#-phase de standardisation"
   ]
  },
  {
   "cell_type": "code",
   "execution_count": null,
   "id": "befa375a-f466-4aa3-85d5-94dbdb6a2fa0",
   "metadata": {},
   "outputs": [],
   "source": [
    "#1.test avec Linear_Regression (train_test_split)"
   ]
  },
  {
   "cell_type": "code",
   "execution_count": 112,
   "id": "b75831ba-5bcf-481b-a3ad-f9425362e2d5",
   "metadata": {},
   "outputs": [
    {
     "name": "stdout",
     "output_type": "stream",
     "text": [
      "0.2425477306774369\n"
     ]
    }
   ],
   "source": [
    "from sklearn.model_selection import train_test_split\n",
    "from sklearn.linear_model import LinearRegression\n",
    "from scipy.stats import spearmanr\n",
    "\n",
    "y = Y_train['TARGET']\n",
    "X_train,X_test, y_train,y_test = train_test_split(X_train_filtered, y, test_size=0.2, random_state=42)\n",
    "\n",
    "model = LinearRegression()\n",
    "model.fit(X_train, y_train)\n",
    "\n",
    "y_pred_train= model.predict(X_train)\n",
    "print(spearmanr(y_pred_train, y_train).correlation)"
   ]
  },
  {
   "cell_type": "code",
   "execution_count": 114,
   "id": "6bd7a5d9-9c33-4253-b7f3-0d26f83058e2",
   "metadata": {},
   "outputs": [
    {
     "name": "stdout",
     "output_type": "stream",
     "text": [
      "Mean MSE for each fold: [1.32878372 1.17019483 0.8249949  1.14648961 0.86787144]\n",
      "Mean MSE across all folds: 1.067666899907008\n",
      "Scores R2 pour chaque fold: [ 0.03261134 -0.00849442  0.01090989 -0.02071004 -0.02573864]\n",
      "Score moyen R2: -0.0022843743223327495\n"
     ]
    }
   ],
   "source": [
    "#test avec validation croisée sur l'ensemble du jeu de données (avant suppression des colonnes liées à la correlation > 0.05)\n",
    "from sklearn.linear_model import LinearRegression\n",
    "from sklearn.model_selection import cross_val_score\n",
    "\n",
    "model = LinearRegression()\n",
    "\n",
    "cv_results = cross_val_score(model, X_train_scaled, Y_train['TARGET'], cv=5, scoring='neg_mean_squared_error')\n",
    "\n",
    "print(f'Mean MSE for each fold: {-cv_results}')  # Les scores sont négatifs car MSE est une perte\n",
    "print(f'Mean MSE across all folds: {-cv_results.mean()}')\n",
    "\n",
    "cv_results_r2 = cross_val_score(model, X_train_scaled, Y_train['TARGET'], cv=5, scoring='r2')\n",
    "\n",
    "print(\"Scores R2 pour chaque fold:\", cv_results_r2)\n",
    "print(\"Score moyen R2:\", cv_results_r2.mean())"
   ]
  },
  {
   "cell_type": "code",
   "execution_count": 117,
   "id": "6414cdff-591f-46b4-98bb-f047d6efd23c",
   "metadata": {},
   "outputs": [
    {
     "name": "stdout",
     "output_type": "stream",
     "text": [
      "Mean MSE for each fold: [1.30297927 1.1654418  0.81213799 1.1400058  0.86677688]\n",
      "Mean MSE across all folds: 1.0574683466064216\n",
      "Scores R2 pour chaque fold: [ 0.05139764 -0.00439818  0.0263241  -0.01493755 -0.02444498]\n",
      "Score moyen R2: 0.0067882065663609215\n"
     ]
    }
   ],
   "source": [
    "#test avec validation croisée sur le jeu de données modifié(apès suppression des colonnes liées à la correlation > 0.05)\n",
    "from sklearn.linear_model import LinearRegression\n",
    "from sklearn.model_selection import cross_val_score\n",
    "\n",
    "model = LinearRegression()\n",
    "\n",
    "cv_results = cross_val_score(model, X_train_filtered, y, cv=5, scoring='neg_mean_squared_error')\n",
    "\n",
    "print(f'Mean MSE for each fold: {-cv_results}')  # Les scores sont négatifs car MSE est une perte\n",
    "print(f'Mean MSE across all folds: {-cv_results.mean()}')\n",
    "\n",
    "cv_results_r2 = cross_val_score(model, X_train_filtered, y, cv=5, scoring='r2')\n",
    "\n",
    "print(\"Scores R2 pour chaque fold:\", cv_results_r2)\n",
    "print(\"Score moyen R2:\", cv_results_r2.mean())"
   ]
  },
  {
   "cell_type": "code",
   "execution_count": 120,
   "id": "b299f6a8-71fb-4df5-b27c-734dd34e75cc",
   "metadata": {},
   "outputs": [
    {
     "name": "stdout",
     "output_type": "stream",
     "text": [
      "Mean MSE: 1.0573103755684796\n",
      "MSE Standard Deviation: 0.18719314142498286\n",
      "Mean R²: 0.006934801624816833\n",
      "R² Standard Deviation: 0.02798822067809026\n"
     ]
    }
   ],
   "source": [
    "#test avec Ridge et sur jeu de données modifié (10 colonnes les plus corrélées)\n",
    "from sklearn.linear_model import Ridge\n",
    "from sklearn.model_selection import cross_val_score, train_test_split\n",
    "from sklearn.metrics import mean_squared_error, r2_score\n",
    "\n",
    "model_ridge = Ridge(alpha=1.0) \n",
    "\n",
    "cv_results_mse = cross_val_score(model_ridge, X_train_filtered, y, cv=5, scoring='neg_mean_squared_error')\n",
    "cv_results_r2 = cross_val_score(model_ridge, X_train_filtered, y, cv=5, scoring='r2')\n",
    "\n",
    "print(f'Mean MSE: {-cv_results_mse.mean()}')  \n",
    "print(f'MSE Standard Deviation: {cv_results_mse.std()}')\n",
    "\n",
    "print(f'Mean R²: {cv_results_r2.mean()}')  # Moyenne de R² sur les folds\n",
    "print(f'R² Standard Deviation: {cv_results_r2.std()}')  # Écart-type de R² sur les folds\n",
    "\n"
   ]
  },
  {
   "cell_type": "code",
   "execution_count": 122,
   "id": "9591ea5b-95c4-458d-b139-fe0017884b3c",
   "metadata": {},
   "outputs": [
    {
     "name": "stdout",
     "output_type": "stream",
     "text": [
      "Mean MSE: 1.0608452436591962\n",
      "MSE Standard Deviation: 0.20415363738323264\n",
      "Mean R²: 0.006400145854685557\n",
      "R² Standard Deviation: 0.006864959549068136\n"
     ]
    }
   ],
   "source": [
    "#test avec Lasso\n",
    "from sklearn.linear_model import Lasso\n",
    "\n",
    "model_lasso = Lasso(alpha=0.1)  \n",
    "\n",
    "# Effectuer la validation croisée avec 5 folds et scorer avec MSE\n",
    "cv_results_mse = cross_val_score(model_lasso, X_train_filtered, y, cv=5, scoring='neg_mean_squared_error')\n",
    "cv_results_r2 = cross_val_score(model_lasso, X_train_filtered, y, cv=5, scoring='r2')\n",
    "\n",
    "# Afficher les résultats de la validation croisée\n",
    "print(f'Mean MSE: {-cv_results_mse.mean()}')  # Notez que MSE est renvoyé comme négatif dans scikit-learn\n",
    "print(f'MSE Standard Deviation: {cv_results_mse.std()}')\n",
    "\n",
    "print(f'Mean R²: {cv_results_r2.mean()}')  # Moyenne de R² sur les folds\n",
    "print(f'R² Standard Deviation: {cv_results_r2.std()}')  # Écart-type de R² sur les folds\n"
   ]
  },
  {
   "cell_type": "code",
   "execution_count": null,
   "id": "01128fe2-7ddf-4f88-8271-1fe40d8295b8",
   "metadata": {},
   "outputs": [],
   "source": []
  }
 ],
 "metadata": {
  "kernelspec": {
   "display_name": "Python 3 (ipykernel)",
   "language": "python",
   "name": "python3"
  },
  "language_info": {
   "codemirror_mode": {
    "name": "ipython",
    "version": 3
   },
   "file_extension": ".py",
   "mimetype": "text/x-python",
   "name": "python",
   "nbconvert_exporter": "python",
   "pygments_lexer": "ipython3",
   "version": "3.11.7"
  }
 },
 "nbformat": 4,
 "nbformat_minor": 5
}
